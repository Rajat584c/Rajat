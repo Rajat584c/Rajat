{
 "cells": [
  {
   "cell_type": "code",
   "execution_count": 18,
   "id": "4a088818-dc69-41fc-8115-85d5609e1c80",
   "metadata": {},
   "outputs": [],
   "source": [
    "import pandas as pd\n",
    "import os\n",
    "from openpyxl import load_workbook"
   ]
  },
  {
   "cell_type": "code",
   "execution_count": 19,
   "id": "fc4d251f-14b5-4518-b0e6-16b09f47d097",
   "metadata": {},
   "outputs": [],
   "source": [
    "# Folder where the workbooks are stored\n",
    "folder_path = '/Users/rajatkumarjena/Downloads/Cyclist'\n",
    "\n",
    "# List of months for the workbook names\n",
    "months = [\n",
    "    'April 2025','May 2025'\n",
    "]"
   ]
  },
  {
   "cell_type": "code",
   "execution_count": 20,
   "id": "352b300d-bbc7-49ce-8c51-26dc6a17717d",
   "metadata": {},
   "outputs": [],
   "source": [
    "# Create an empty DataFrame to store the combined data\n",
    "combined_data = pd.DataFrame()\n",
    "\n",
    "# Chunk size for reading each file (adjust as needed)\n",
    "chunk_size = 100000"
   ]
  },
  {
   "cell_type": "code",
   "execution_count": 21,
   "id": "01989fb6-cd04-4f6f-b70f-75cc12a98958",
   "metadata": {},
   "outputs": [
    {
     "name": "stdout",
     "output_type": "stream",
     "text": [
      "Processing April 2025.xlsx...\n",
      "Processing May 2025.xlsx...\n"
     ]
    },
    {
     "name": "stderr",
     "output_type": "stream",
     "text": [
      "Exception ignored in: <function ZipFile.__del__ at 0x1065baa20>\n",
      "Traceback (most recent call last):\n",
      "  File \"/opt/anaconda3/lib/python3.12/zipfile/__init__.py\", line 1940, in __del__\n",
      "    self.close()\n",
      "  File \"/opt/anaconda3/lib/python3.12/zipfile/__init__.py\", line 1957, in close\n",
      "    self.fp.seek(self.start_dir)\n",
      "ValueError: seek of closed file\n"
     ]
    }
   ],
   "source": [
    "# Function to read Excel file and process it in chunks\n",
    "def process_excel_file(file_path, chunk_size):\n",
    "    wb = load_workbook(file_path, read_only=True)  # Load the workbook in read-only mode\n",
    "    sheet = wb.active  # Use the active sheet, or you can specify sheet name like wb['Sheet1']\n",
    "    \n",
    "    # Read the header row\n",
    "    columns = [cell.value for cell in sheet[1]]  # First row is the header\n",
    "    data = []\n",
    "    \n",
    "    # Process rows in chunks\n",
    "    for idx, row in enumerate(sheet.iter_rows(min_row=2, values_only=True), start=2):  # Skip header\n",
    "        data.append(row)\n",
    "        \n",
    "        # When the chunk size is reached, process and reset the chunk\n",
    "        if idx % chunk_size == 0:\n",
    "            chunk_df = pd.DataFrame(data, columns=columns)\n",
    "            yield chunk_df\n",
    "            data = []  # Reset the chunk\n",
    "    \n",
    "    # If there is remaining data after the loop ends\n",
    "    if data:\n",
    "        chunk_df = pd.DataFrame(data, columns=columns)\n",
    "        yield chunk_df\n",
    "\n",
    "# Loop through each month and process the respective workbook\n",
    "for month in months:\n",
    "    file_name = f'{month}.xlsx'  \n",
    "    file_path = os.path.join(folder_path, file_name)\n",
    "\n",
    "    # Check if the file exists\n",
    "    if os.path.exists(file_path):\n",
    "        print(f\"Processing {file_name}...\")\n",
    "        \n",
    "        # Process the Excel file in chunks\n",
    "        for chunk in process_excel_file(file_path, chunk_size):\n",
    "            # Concatenate the current chunk to the combined data\n",
    "            combined_data = pd.concat([combined_data, chunk], ignore_index=True)\n",
    "    else:\n",
    "        print(f\"File {file_name} not found, skipping...\")\n"
   ]
  },
  {
   "cell_type": "code",
   "execution_count": 22,
   "id": "a2d40e17-2c37-48ed-bbb2-555c3e808085",
   "metadata": {},
   "outputs": [
    {
     "name": "stdout",
     "output_type": "stream",
     "text": [
      "Data has been successfully combined and saved as 'combined_data_2024.xlsx'\n"
     ]
    }
   ],
   "source": [
    "# Save the combined data into a new Excel file\n",
    "combined_data.to_excel('combined_data_2024.xlsx', index=False)\n",
    "\n",
    "print(\"Data has been successfully combined and saved as 'combined_data_2024.xlsx'\")"
   ]
  }
 ],
 "metadata": {
  "kernelspec": {
   "display_name": "Python [conda env:base] *",
   "language": "python",
   "name": "conda-base-py"
  },
  "language_info": {
   "codemirror_mode": {
    "name": "ipython",
    "version": 3
   },
   "file_extension": ".py",
   "mimetype": "text/x-python",
   "name": "python",
   "nbconvert_exporter": "python",
   "pygments_lexer": "ipython3",
   "version": "3.12.7"
  }
 },
 "nbformat": 4,
 "nbformat_minor": 5
}
